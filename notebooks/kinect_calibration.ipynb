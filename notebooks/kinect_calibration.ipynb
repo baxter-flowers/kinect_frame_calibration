{
 "cells": [
  {
   "cell_type": "code",
   "execution_count": 1,
   "metadata": {
    "collapsed": false
   },
   "outputs": [],
   "source": [
    "import rospy,tf, numpy as np, transformations, json, rospkg, yaml\n",
    "from os import system\n",
    "from scipy.optimize import minimize\n",
    "import transformations\n",
    "import time"
   ]
  },
  {
   "cell_type": "code",
   "execution_count": 2,
   "metadata": {
    "collapsed": false
   },
   "outputs": [],
   "source": [
    "rospy.init_node('kinect_calibrator')"
   ]
  },
  {
   "cell_type": "code",
   "execution_count": 4,
   "metadata": {
    "collapsed": false
   },
   "outputs": [],
   "source": [
    "rospy.set_param('/optitrack/objects', ['kinect_frame', 'kinect_calibrator'])"
   ]
  },
  {
   "cell_type": "code",
   "execution_count": 5,
   "metadata": {
    "collapsed": false
   },
   "outputs": [],
   "source": [
    "tfl = tf.TransformListener(True, rospy.Duration(2))  # tf will have 2 seconds of cache"
   ]
  },
  {
   "cell_type": "code",
   "execution_count": 6,
   "metadata": {
    "collapsed": false
   },
   "outputs": [],
   "source": [
    "rospack = rospkg.RosPack()"
   ]
  },
  {
   "cell_type": "code",
   "execution_count": null,
   "metadata": {
    "collapsed": true
   },
   "outputs": [],
   "source": []
  },
  {
   "cell_type": "code",
   "execution_count": null,
   "metadata": {
    "collapsed": true
   },
   "outputs": [],
   "source": [
    "rospy.Subscriber(\"/tf\", tf.msg.tfMessage, cb_tf_received)"
   ]
  },
  {
   "cell_type": "code",
   "execution_count": 7,
   "metadata": {
    "collapsed": false
   },
   "outputs": [],
   "source": [
    "world_frame_kinect = 'camera_link'\n",
    "world_frame_opt = 'kinect_frame' \n",
    "calib_frame_robot = 'kinect_ar' \n",
    "calib_frame_opt = 'kinect_calibrator' "
   ]
  },
  {
   "cell_type": "code",
   "execution_count": 10,
   "metadata": {
    "collapsed": false
   },
   "outputs": [
    {
     "name": "stdout",
     "output_type": "stream",
     "text": [
      "Now run the publisher: roslaunch kinect_frame_calibraton kinect_calibration.launch\n"
     ]
    }
   ],
   "source": [
    "print(\"Now run the publisher: roslaunch kinect_frame_calibraton kinect_calibration.launch\")"
   ]
  },
  {
   "cell_type": "markdown",
   "metadata": {},
   "source": [
    "Also check that the ROS master and the local machine are up-to-date regarding time, to synchronize your local machine's time execute:\n",
    "```\n",
    "ntpdate -q ntp.ubuntu.com\n",
    "```"
   ]
  },
  {
   "cell_type": "markdown",
   "metadata": {},
   "source": [
    "## Definition of functions\n",
    "Nothing to do here, just executing...\n",
    "### Record calibration points"
   ]
  },
  {
   "cell_type": "code",
   "execution_count": 8,
   "metadata": {
    "collapsed": false
   },
   "outputs": [],
   "source": [
    "def record_calibration_points(continuous = True, duration=60, min_dist=0.01, max_dur=0.05):\n",
    "    mat_robot = [] # Matrix of all calibration points of calib_frame_robot in frame world_frame_robot (position only)\n",
    "    mat_opt = [] # Matrix of all calibration points of calib_frame_opt in frame world_frame_opt (position only)\n",
    "    max_dur = rospy.Duration(max_dur) # seconds\n",
    "    duration = rospy.Duration(duration)\n",
    "    \n",
    "    start = rospy.Time.now()\n",
    "    last_point = None\n",
    "    entry = \"\"\n",
    "    while continuous and rospy.Time.now()<start+duration or not continuous and entry==\"\":   \n",
    "        ref_time = tfl.getLatestCommonTime(world_frame_robot, calib_frame_opt)\n",
    "        now = rospy.Time.now()\n",
    "        \n",
    "        if ref_time > now - max_dur:\n",
    "            try:\n",
    "                pose_rg_robot = tfl.lookupTransform(world_frame_robot, calib_frame_robot, rospy.Time(0))\n",
    "            except Exception, e:\n",
    "                print \"Robot <-> Optitrack transformation not available at the last known common time:\", e.message\n",
    "            else:\n",
    "                if last_point is None or transformations.distance(pose_rg_robot, last_point)>min_dist:\n",
    "                    try:\n",
    "                        pose_rg_opt = tfl.lookupTransform(world_frame_opt, calib_frame_opt, rospy.Time(0))\n",
    "                    except:\n",
    "                        print \"Optitrack Marker not visible at the last know common time\"\n",
    "                    else:\n",
    "                        mat_robot.append(np.array(pose_rg_robot))\n",
    "                        mat_opt.append(np.array(pose_rg_opt))\n",
    "                        last_point = pose_rg_robot\n",
    "                        system('beep')\n",
    "        else:\n",
    "            print \"TFs are\", (now - ref_time).to_sec(), \"sec late\"\n",
    "        \n",
    "        if continuous:\n",
    "            rospy.sleep(0.25)\n",
    "        else:\n",
    "            entry = raw_input(\"Press enter to record a new point or q-enter to quit ({} points)\".format(len(mat_robot)))\n",
    "    return mat_opt, mat_robot"
   ]
  },
  {
   "cell_type": "markdown",
   "metadata": {},
   "source": [
    "### Formating functions"
   ]
  },
  {
   "cell_type": "code",
   "execution_count": 9,
   "metadata": {
    "collapsed": false
   },
   "outputs": [],
   "source": [
    "def extract_transforms(flat_transforms):\n",
    "    # a transform is 3 pos and 4 rot\n",
    "    nb_transform = len(flat_transforms) / 7\n",
    "    list_transforms = []\n",
    "    for i in range(nb_transform):\n",
    "        pose = []\n",
    "        # extract the pose\n",
    "        pose.append(flat_transforms[i * 7:i * 7 + 3])\n",
    "        pose.append(flat_transforms[i * 7 + 3:i * 7 + 7])\n",
    "        # append it to the list of transforms\n",
    "        list_transforms.append(pose)\n",
    "    return list_transforms\n",
    "        \n",
    "def result_to_calibration_matrix(result):\n",
    "    calibration_matrix = transformations.inverse_transform(result)\n",
    "    return [map(float, calibration_matrix[0]), map(float, calibration_matrix[1].tolist())]"
   ]
  },
  {
   "cell_type": "markdown",
   "metadata": {},
   "source": [
    "### Cost function for the optimization"
   ]
  },
  {
   "cell_type": "code",
   "execution_count": 62,
   "metadata": {
    "collapsed": true
   },
   "outputs": [],
   "source": [
    "def evaluate_calibration(calibrations, coords_robot, coords_opt):\n",
    "    def distance_cost(pose1, pose2, rot_coeff=2):\n",
    "        pos_cost = 0\n",
    "        # calculate position ditance\n",
    "        pos_cost = np.linalg.norm(np.array(pose1[0]) - np.array(pose2[0]))\n",
    "        # distance between two quaternions\n",
    "        rot_cost = 1 - np.inner(pose1[1], pose2[1])**2\n",
    "        return pos_cost + rot_coeff * rot_cost\n",
    "\n",
    "    # first extract the transformations\n",
    "    list_calibr = extract_transforms(calibrations)\n",
    "    # set the base transform\n",
    "    A = list_calibr[0]\n",
    "    B = list_calibr[1]\n",
    "    # loop trough all the transforms\n",
    "    cost = 0\n",
    "    for i in range(len(coords_robot)):\n",
    "        robot = coords_robot[i]\n",
    "        opt = coords_opt[i]\n",
    "        product = transformations.multiply_transform(robot, B)\n",
    "        product = transformations.multiply_transform(A, product)\n",
    "        \n",
    "        cost += distance_cost(opt, product)\n",
    "    return cost"
   ]
  },
  {
   "cell_type": "code",
   "execution_count": 63,
   "metadata": {
    "collapsed": true
   },
   "outputs": [],
   "source": [
    "cons = ({'type': 'eq', 'fun': lambda x:  abs(np.linalg.norm(x[3:7])- 1)},\n",
    "        {'type': 'eq', 'fun': lambda x:  abs(np.linalg.norm(x[10:14])- 1)})"
   ]
  },
  {
   "cell_type": "markdown",
   "metadata": {},
   "source": [
    "### Functions for quality checking"
   ]
  },
  {
   "cell_type": "code",
   "execution_count": 36,
   "metadata": {
    "collapsed": false
   },
   "outputs": [],
   "source": [
    "def calculate_position_error(A, B, coords_robot, coords_opt):\n",
    "    norm = 0.\n",
    "    # precision error\n",
    "    for i in range(len(coords_robot)):\n",
    "        robot = coords_robot[i]\n",
    "        opt = coords_opt[i]\n",
    "        product = tranformations.multiply_tranform(robot, B)\n",
    "        product = tranformations.multiply_tranform(A, product)\n",
    "        norm += np.linalg.norm(opt[0], product[0])\n",
    "    return norm"
   ]
  },
  {
   "cell_type": "markdown",
   "metadata": {},
   "source": [
    "## Acquisition of points for calibration by moving the arm..."
   ]
  },
  {
   "cell_type": "code",
   "execution_count": 12,
   "metadata": {
    "collapsed": false
   },
   "outputs": [],
   "source": [
    "# Record during 60 sec... set continuous=False for an interactive mode\n",
    "mat_opt, mat_robot = record_calibration_points(continuous=True)"
   ]
  },
  {
   "cell_type": "code",
   "execution_count": 13,
   "metadata": {
    "collapsed": false
   },
   "outputs": [
    {
     "name": "stdout",
     "output_type": "stream",
     "text": [
      "129 points recorded\n"
     ]
    }
   ],
   "source": [
    "print len(mat_opt), \"points recorded\""
   ]
  },
  {
   "cell_type": "markdown",
   "metadata": {},
   "source": [
    "## Optimization of the calibration matrix"
   ]
  },
  {
   "cell_type": "code",
   "execution_count": 60,
   "metadata": {
    "collapsed": false
   },
   "outputs": [],
   "source": [
    "initial_guess = [0,0,0,0,0,0,1]*2"
   ]
  },
  {
   "cell_type": "code",
   "execution_count": 64,
   "metadata": {
    "collapsed": false
   },
   "outputs": [
    {
     "ename": "KeyboardInterrupt",
     "evalue": "",
     "output_type": "error",
     "traceback": [
      "\u001b[1;31m---------------------------------------------------------------------------\u001b[0m",
      "\u001b[1;31mKeyboardInterrupt\u001b[0m                         Traceback (most recent call last)",
      "\u001b[1;32m<ipython-input-64-1d50698c7265>\u001b[0m in \u001b[0;36m<module>\u001b[1;34m()\u001b[0m\n\u001b[0;32m      2\u001b[0m \u001b[1;31m# Be patient, this cell can be long to execute...\u001b[0m\u001b[1;33m\u001b[0m\u001b[1;33m\u001b[0m\u001b[0m\n\u001b[0;32m      3\u001b[0m result = minimize(evaluate_calibration, initial_guess, args=(mat_robot, mat_opt, ),\n\u001b[1;32m----> 4\u001b[1;33m                   method='SLSQP', constraints=cons)\n\u001b[0m\u001b[0;32m      5\u001b[0m \u001b[1;32mprint\u001b[0m \u001b[0mtime\u001b[0m\u001b[1;33m.\u001b[0m\u001b[0mtime\u001b[0m\u001b[1;33m(\u001b[0m\u001b[1;33m)\u001b[0m\u001b[1;33m-\u001b[0m\u001b[0mt0\u001b[0m\u001b[1;33m,\u001b[0m \u001b[1;34m\"seconds of optimization\"\u001b[0m\u001b[1;33m\u001b[0m\u001b[0m\n",
      "\u001b[1;32m/usr/local/lib/python2.7/dist-packages/scipy/optimize/_minimize.pyc\u001b[0m in \u001b[0;36mminimize\u001b[1;34m(fun, x0, args, method, jac, hess, hessp, bounds, constraints, tol, callback, options)\u001b[0m\n\u001b[0;32m    456\u001b[0m     \u001b[1;32melif\u001b[0m \u001b[0mmeth\u001b[0m \u001b[1;33m==\u001b[0m \u001b[1;34m'slsqp'\u001b[0m\u001b[1;33m:\u001b[0m\u001b[1;33m\u001b[0m\u001b[0m\n\u001b[0;32m    457\u001b[0m         return _minimize_slsqp(fun, x0, args, jac, bounds,\n\u001b[1;32m--> 458\u001b[1;33m                                constraints, callback=callback, **options)\n\u001b[0m\u001b[0;32m    459\u001b[0m     \u001b[1;32melif\u001b[0m \u001b[0mmeth\u001b[0m \u001b[1;33m==\u001b[0m \u001b[1;34m'dogleg'\u001b[0m\u001b[1;33m:\u001b[0m\u001b[1;33m\u001b[0m\u001b[0m\n\u001b[0;32m    460\u001b[0m         return _minimize_dogleg(fun, x0, args, jac, hess,\n",
      "\u001b[1;32m/usr/local/lib/python2.7/dist-packages/scipy/optimize/slsqp.pyc\u001b[0m in \u001b[0;36m_minimize_slsqp\u001b[1;34m(func, x0, args, jac, bounds, constraints, maxiter, ftol, iprint, disp, eps, callback, **unknown_options)\u001b[0m\n\u001b[0;32m    365\u001b[0m \u001b[1;33m\u001b[0m\u001b[0m\n\u001b[0;32m    366\u001b[0m             \u001b[1;31m# Compute objective function\u001b[0m\u001b[1;33m\u001b[0m\u001b[1;33m\u001b[0m\u001b[0m\n\u001b[1;32m--> 367\u001b[1;33m             \u001b[0mfx\u001b[0m \u001b[1;33m=\u001b[0m \u001b[0mfunc\u001b[0m\u001b[1;33m(\u001b[0m\u001b[0mx\u001b[0m\u001b[1;33m)\u001b[0m\u001b[1;33m\u001b[0m\u001b[0m\n\u001b[0m\u001b[0;32m    368\u001b[0m             \u001b[1;31m# Compute the constraints\u001b[0m\u001b[1;33m\u001b[0m\u001b[1;33m\u001b[0m\u001b[0m\n\u001b[0;32m    369\u001b[0m             \u001b[1;32mif\u001b[0m \u001b[0mcons\u001b[0m\u001b[1;33m[\u001b[0m\u001b[1;34m'eq'\u001b[0m\u001b[1;33m]\u001b[0m\u001b[1;33m:\u001b[0m\u001b[1;33m\u001b[0m\u001b[0m\n",
      "\u001b[1;32m/usr/local/lib/python2.7/dist-packages/scipy/optimize/optimize.pyc\u001b[0m in \u001b[0;36mfunction_wrapper\u001b[1;34m(*wrapper_args)\u001b[0m\n\u001b[0;32m    290\u001b[0m     \u001b[1;32mdef\u001b[0m \u001b[0mfunction_wrapper\u001b[0m\u001b[1;33m(\u001b[0m\u001b[1;33m*\u001b[0m\u001b[0mwrapper_args\u001b[0m\u001b[1;33m)\u001b[0m\u001b[1;33m:\u001b[0m\u001b[1;33m\u001b[0m\u001b[0m\n\u001b[0;32m    291\u001b[0m         \u001b[0mncalls\u001b[0m\u001b[1;33m[\u001b[0m\u001b[1;36m0\u001b[0m\u001b[1;33m]\u001b[0m \u001b[1;33m+=\u001b[0m \u001b[1;36m1\u001b[0m\u001b[1;33m\u001b[0m\u001b[0m\n\u001b[1;32m--> 292\u001b[1;33m         \u001b[1;32mreturn\u001b[0m \u001b[0mfunction\u001b[0m\u001b[1;33m(\u001b[0m\u001b[1;33m*\u001b[0m\u001b[1;33m(\u001b[0m\u001b[0mwrapper_args\u001b[0m \u001b[1;33m+\u001b[0m \u001b[0margs\u001b[0m\u001b[1;33m)\u001b[0m\u001b[1;33m)\u001b[0m\u001b[1;33m\u001b[0m\u001b[0m\n\u001b[0m\u001b[0;32m    293\u001b[0m \u001b[1;33m\u001b[0m\u001b[0m\n\u001b[0;32m    294\u001b[0m     \u001b[1;32mreturn\u001b[0m \u001b[0mncalls\u001b[0m\u001b[1;33m,\u001b[0m \u001b[0mfunction_wrapper\u001b[0m\u001b[1;33m\u001b[0m\u001b[0m\n",
      "\u001b[1;32m<ipython-input-62-788d8d59e9c2>\u001b[0m in \u001b[0;36mevaluate_calibration\u001b[1;34m(calibrations, coords_robot, coords_opt)\u001b[0m\n\u001b[0;32m     21\u001b[0m         \u001b[0mproduct\u001b[0m \u001b[1;33m=\u001b[0m \u001b[0mtransformations\u001b[0m\u001b[1;33m.\u001b[0m\u001b[0mmultiply_transform\u001b[0m\u001b[1;33m(\u001b[0m\u001b[0mA\u001b[0m\u001b[1;33m,\u001b[0m \u001b[0mproduct\u001b[0m\u001b[1;33m)\u001b[0m\u001b[1;33m\u001b[0m\u001b[0m\n\u001b[0;32m     22\u001b[0m \u001b[1;33m\u001b[0m\u001b[0m\n\u001b[1;32m---> 23\u001b[1;33m         \u001b[0mcost\u001b[0m \u001b[1;33m+=\u001b[0m \u001b[0mdistance_cost\u001b[0m\u001b[1;33m(\u001b[0m\u001b[0mopt\u001b[0m\u001b[1;33m,\u001b[0m \u001b[0mproduct\u001b[0m\u001b[1;33m)\u001b[0m\u001b[1;33m\u001b[0m\u001b[0m\n\u001b[0m\u001b[0;32m     24\u001b[0m     \u001b[1;32mreturn\u001b[0m \u001b[0mcost\u001b[0m\u001b[1;33m\u001b[0m\u001b[0m\n",
      "\u001b[1;32m<ipython-input-62-788d8d59e9c2>\u001b[0m in \u001b[0;36mdistance_cost\u001b[1;34m(pose1, pose2, rot_coeff)\u001b[0m\n\u001b[0;32m      3\u001b[0m         \u001b[0mpos_cost\u001b[0m \u001b[1;33m=\u001b[0m \u001b[1;36m0\u001b[0m\u001b[1;33m\u001b[0m\u001b[0m\n\u001b[0;32m      4\u001b[0m         \u001b[1;31m# calculate position ditance\u001b[0m\u001b[1;33m\u001b[0m\u001b[1;33m\u001b[0m\u001b[0m\n\u001b[1;32m----> 5\u001b[1;33m         \u001b[0mpos_cost\u001b[0m \u001b[1;33m=\u001b[0m \u001b[0mnp\u001b[0m\u001b[1;33m.\u001b[0m\u001b[0mlinalg\u001b[0m\u001b[1;33m.\u001b[0m\u001b[0mnorm\u001b[0m\u001b[1;33m(\u001b[0m\u001b[0mnp\u001b[0m\u001b[1;33m.\u001b[0m\u001b[0marray\u001b[0m\u001b[1;33m(\u001b[0m\u001b[0mpose1\u001b[0m\u001b[1;33m[\u001b[0m\u001b[1;36m0\u001b[0m\u001b[1;33m]\u001b[0m\u001b[1;33m)\u001b[0m \u001b[1;33m-\u001b[0m \u001b[0mnp\u001b[0m\u001b[1;33m.\u001b[0m\u001b[0marray\u001b[0m\u001b[1;33m(\u001b[0m\u001b[0mpose2\u001b[0m\u001b[1;33m[\u001b[0m\u001b[1;36m0\u001b[0m\u001b[1;33m]\u001b[0m\u001b[1;33m)\u001b[0m\u001b[1;33m)\u001b[0m\u001b[1;33m\u001b[0m\u001b[0m\n\u001b[0m\u001b[0;32m      6\u001b[0m         \u001b[1;31m# distance between two quaternions\u001b[0m\u001b[1;33m\u001b[0m\u001b[1;33m\u001b[0m\u001b[0m\n\u001b[0;32m      7\u001b[0m         \u001b[0mrot_cost\u001b[0m \u001b[1;33m=\u001b[0m \u001b[1;36m1\u001b[0m \u001b[1;33m-\u001b[0m \u001b[0mnp\u001b[0m\u001b[1;33m.\u001b[0m\u001b[0minner\u001b[0m\u001b[1;33m(\u001b[0m\u001b[0mpose1\u001b[0m\u001b[1;33m[\u001b[0m\u001b[1;36m1\u001b[0m\u001b[1;33m]\u001b[0m\u001b[1;33m,\u001b[0m \u001b[0mpose2\u001b[0m\u001b[1;33m[\u001b[0m\u001b[1;36m1\u001b[0m\u001b[1;33m]\u001b[0m\u001b[1;33m)\u001b[0m\u001b[1;33m**\u001b[0m\u001b[1;36m2\u001b[0m\u001b[1;33m\u001b[0m\u001b[0m\n",
      "\u001b[1;32m/usr/lib/python2.7/dist-packages/numpy/linalg/linalg.pyc\u001b[0m in \u001b[0;36mnorm\u001b[1;34m(x, ord, axis)\u001b[0m\n\u001b[0;32m   2054\u001b[0m     \u001b[1;31m# Check the default case first and handle it immediately.\u001b[0m\u001b[1;33m\u001b[0m\u001b[1;33m\u001b[0m\u001b[0m\n\u001b[0;32m   2055\u001b[0m     \u001b[1;32mif\u001b[0m \u001b[0mord\u001b[0m \u001b[1;32mis\u001b[0m \u001b[0mNone\u001b[0m \u001b[1;32mand\u001b[0m \u001b[0maxis\u001b[0m \u001b[1;32mis\u001b[0m \u001b[0mNone\u001b[0m\u001b[1;33m:\u001b[0m\u001b[1;33m\u001b[0m\u001b[0m\n\u001b[1;32m-> 2056\u001b[1;33m         \u001b[1;32mreturn\u001b[0m \u001b[0msqrt\u001b[0m\u001b[1;33m(\u001b[0m\u001b[0madd\u001b[0m\u001b[1;33m.\u001b[0m\u001b[0mreduce\u001b[0m\u001b[1;33m(\u001b[0m\u001b[1;33m(\u001b[0m\u001b[0mx\u001b[0m\u001b[1;33m.\u001b[0m\u001b[0mconj\u001b[0m\u001b[1;33m(\u001b[0m\u001b[1;33m)\u001b[0m \u001b[1;33m*\u001b[0m \u001b[0mx\u001b[0m\u001b[1;33m)\u001b[0m\u001b[1;33m.\u001b[0m\u001b[0mreal\u001b[0m\u001b[1;33m,\u001b[0m \u001b[0maxis\u001b[0m\u001b[1;33m=\u001b[0m\u001b[0mNone\u001b[0m\u001b[1;33m)\u001b[0m\u001b[1;33m)\u001b[0m\u001b[1;33m\u001b[0m\u001b[0m\n\u001b[0m\u001b[0;32m   2057\u001b[0m \u001b[1;33m\u001b[0m\u001b[0m\n\u001b[0;32m   2058\u001b[0m     \u001b[1;31m# Normalize the `axis` argument to a tuple.\u001b[0m\u001b[1;33m\u001b[0m\u001b[1;33m\u001b[0m\u001b[0m\n",
      "\u001b[1;31mKeyboardInterrupt\u001b[0m: "
     ]
    }
   ],
   "source": [
    "t0 = time.time()\n",
    "# Be patient, this cell can be long to execute...\n",
    "result = minimize(evaluate_calibration, initial_guess, args=(mat_robot, mat_opt, ),\n",
    "                  method='SLSQP', constraints=cons)\n",
    "print time.time()-t0, \"seconds of optimization\""
   ]
  },
  {
   "cell_type": "code",
   "execution_count": 46,
   "metadata": {
    "collapsed": false
   },
   "outputs": [
    {
     "name": "stdout",
     "output_type": "stream",
     "text": [
      "     fun: 0.53784406439885435\n",
      "     jac: array([-0.01361901, -0.00231588, -0.00189607,  0.00195947, -0.01379845,\n",
      "       -0.00607565,  0.00055345,  0.0068095 ,  0.01071879, -0.00121898,\n",
      "       -0.00215551, -0.0045734 ,  0.0026232 , -0.00164585,  0.        ])\n",
      " message: 'Optimization terminated successfully.'\n",
      "    nfev: 804\n",
      "     nit: 46\n",
      "    njev: 46\n",
      "  status: 0\n",
      " success: True\n",
      "       x: array([-0.53879008, -0.18859231,  0.91843086, -0.00234543,  0.01890137,\n",
      "        0.04220829,  0.99892727, -0.01749826, -0.00993011, -0.02432433,\n",
      "        0.35919949, -0.58972421, -0.3289611 ,  0.64419383])\n"
     ]
    }
   ],
   "source": [
    "print result"
   ]
  },
  {
   "cell_type": "code",
   "execution_count": 48,
   "metadata": {
    "collapsed": false
   },
   "outputs": [],
   "source": [
    "result_list = extract_transforms(result.x)"
   ]
  },
  {
   "cell_type": "markdown",
   "metadata": {},
   "source": [
    "## Dumping A i.e. the calibration matrix (the transformation between the optitrack frame and the robot base frame)"
   ]
  },
  {
   "cell_type": "code",
   "execution_count": 49,
   "metadata": {
    "collapsed": false
   },
   "outputs": [],
   "source": [
    "calibration_matrix_a = result_to_calibration_matrix(result_list[0])"
   ]
  },
  {
   "cell_type": "code",
   "execution_count": 50,
   "metadata": {
    "collapsed": false
   },
   "outputs": [],
   "source": [
    "rospy.set_param(\"/optitrack/calibration_matrix\", calibration_matrix_a)"
   ]
  },
  {
   "cell_type": "code",
   "execution_count": 51,
   "metadata": {
    "collapsed": false
   },
   "outputs": [],
   "source": [
    "with open(rospack.get_path(\"optitrack_publisher\")+\"/config/calibration_matrix.yaml\", 'w') as f:\n",
    "    yaml.dump(calibration_matrix_a, f)"
   ]
  },
  {
   "cell_type": "markdown",
   "metadata": {},
   "source": [
    "## Dumping B (the transformation between the optitrack marker and the end effector frame)"
   ]
  },
  {
   "cell_type": "code",
   "execution_count": 52,
   "metadata": {
    "collapsed": false
   },
   "outputs": [],
   "source": [
    "calibration_matrix_b = result_to_calibration_matrix(result_list[1])"
   ]
  },
  {
   "cell_type": "code",
   "execution_count": 53,
   "metadata": {
    "collapsed": false
   },
   "outputs": [],
   "source": [
    "with open(rospack.get_path(\"optitrack_publisher\")+\"/config/calibration_matrix_b.yaml\", 'w') as f:\n",
    "    yaml.dump(calibration_matrix_b, f)"
   ]
  },
  {
   "cell_type": "markdown",
   "metadata": {},
   "source": [
    "## Testing calibration quality"
   ]
  },
  {
   "cell_type": "code",
   "execution_count": null,
   "metadata": {
    "collapsed": false
   },
   "outputs": [],
   "source": [
    "mat_opt_check, mat_robot_check = record_calibration_points(False)"
   ]
  },
  {
   "cell_type": "code",
   "execution_count": null,
   "metadata": {
    "collapsed": false
   },
   "outputs": [],
   "source": [
    "print len(mat_opt), \"points recorded\""
   ]
  },
  {
   "cell_type": "code",
   "execution_count": null,
   "metadata": {
    "collapsed": false
   },
   "outputs": [],
   "source": [
    "calculate_cost(result_a, result_b, mat_robot_check, mat_opt_check)"
   ]
  },
  {
   "cell_type": "code",
   "execution_count": null,
   "metadata": {
    "collapsed": false
   },
   "outputs": [],
   "source": [
    "avg_error = calculate_position_error(result_a, result_b, mat_robot_check, mat_opt_check)/len(mat_opt_check)"
   ]
  },
  {
   "cell_type": "code",
   "execution_count": null,
   "metadata": {
    "collapsed": false
   },
   "outputs": [],
   "source": [
    "avg_error"
   ]
  }
 ],
 "metadata": {
  "kernelspec": {
   "display_name": "Python 2",
   "language": "python",
   "name": "python2"
  },
  "language_info": {
   "codemirror_mode": {
    "name": "ipython",
    "version": 2
   },
   "file_extension": ".py",
   "mimetype": "text/x-python",
   "name": "python",
   "nbconvert_exporter": "python",
   "pygments_lexer": "ipython2",
   "version": "2.7.6"
  }
 },
 "nbformat": 4,
 "nbformat_minor": 0
}
